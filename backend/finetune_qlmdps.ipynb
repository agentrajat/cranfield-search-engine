{
 "cells": [
  {
   "cell_type": "markdown",
   "metadata": {},
   "source": [
    "# CA6005 Mechanics of Search (2023-2024)<br/>\n",
    "## Assignment 1: Search Engine\n",
    "\n",
    "<b>Student Name:</b> Rajat Jayant Lashkare<br/>\n",
    "<b>Student No:</b> 22267538\n",
    "\n",
    "<br/>\n",
    "The purpose of this notebook is to finetune mu parameter for Query Language Model"
   ]
  },
  {
   "cell_type": "markdown",
   "metadata": {},
   "source": [
    "## Importing required libraries"
   ]
  },
  {
   "cell_type": "code",
   "execution_count": 3,
   "metadata": {},
   "outputs": [],
   "source": [
    "from ir_system import IRSystem\n",
    "from IPython.display import Markdown, display\n",
    "import pandas as pd"
   ]
  },
  {
   "cell_type": "markdown",
   "metadata": {},
   "source": [
    "## Initializing IR System"
   ]
  },
  {
   "cell_type": "code",
   "execution_count": 30,
   "metadata": {},
   "outputs": [
    {
     "name": "stdout",
     "output_type": "stream",
     "text": [
      "Initializing IR System\n",
      "Reading documents and queries\n",
      "Found 1400 documents from file.\n",
      "Found 225 queries from file.\n",
      "Building index\n",
      "Indexing... (1400 / 1400)\n",
      "Indexing completed.\n",
      "Initializing retrieval models\n",
      "Query Likelyhood Model Initialized.\n",
      "IR System initialized\n",
      "<<>> mu is: 0\n",
      "Running queries... (225 / 225)\n",
      "Creating output file...\n",
      "Output file created at ./output/QueryLikelyhoodDPSModel.txt\n",
      "Executing trec_eval for QueryLikelyhoodDPSModel...\n",
      "<<>> Score of mu: 0, map: 0.2281\n",
      "<<>> mu is: 250\n",
      "Running queries... (225 / 225)\n",
      "Creating output file...\n",
      "Output file created at ./output/QueryLikelyhoodDPSModel.txt\n",
      "Executing trec_eval for QueryLikelyhoodDPSModel...\n",
      "<<>> Score of mu: 250, map: 0.2859\n",
      "<<>> mu is: 500\n",
      "Running queries... (225 / 225)\n",
      "Creating output file...\n",
      "Output file created at ./output/QueryLikelyhoodDPSModel.txt\n",
      "Executing trec_eval for QueryLikelyhoodDPSModel...\n",
      "<<>> Score of mu: 500, map: 0.2817\n",
      "<<>> mu is: 750\n",
      "Running queries... (225 / 225)\n",
      "Creating output file...\n",
      "Output file created at ./output/QueryLikelyhoodDPSModel.txt\n",
      "Executing trec_eval for QueryLikelyhoodDPSModel...\n",
      "<<>> Score of mu: 750, map: 0.2777\n"
     ]
    }
   ],
   "source": [
    "min = 0\n",
    "max = 1000\n",
    "\n",
    "\n",
    "table = {}\n",
    "\n",
    "ir_system = IRSystem(\n",
    "    initialize_vsm=False,\n",
    "    initialize_bm25=False,\n",
    "    qldps_args={\"mu\": 0}\n",
    ")\n",
    "\n",
    "def get_map_score(mu):\n",
    "    print(f\"<<>> mu is: {mu}\")\n",
    "    ir_system.models[\"qldps\"].mu = mu\n",
    "    evaluator = ir_system.evaluate_model(ir_system.get_model(\"qldps\"))\n",
    "    result = ir_system.get_metrics(evaluator)\n",
    "    print(f\"<<>> Score of mu: {mu}, map: {result['map']}\")\n",
    "    return result[\"map\"]\n",
    "\n",
    "for mu in range(min, max, 250):\n",
    "    table[mu] = get_map_score(mu)"
   ]
  },
  {
   "cell_type": "code",
   "execution_count": 31,
   "metadata": {},
   "outputs": [
    {
     "name": "stdout",
     "output_type": "stream",
     "text": [
      "[(0, 0.2281), (250, 0.2859), (500, 0.2817), (750, 0.2777)]\n"
     ]
    }
   ],
   "source": [
    "sorted_table = sorted(table.items(), key=lambda x: x[0])\n",
    "print(sorted_table)"
   ]
  },
  {
   "cell_type": "code",
   "execution_count": 32,
   "metadata": {},
   "outputs": [
    {
     "name": "stdout",
     "output_type": "stream",
     "text": [
      "<<>> mu is: 0\n",
      "Running queries... (225 / 225)\n",
      "Creating output file...\n",
      "Output file created at ./output/QueryLikelyhoodDPSModel.txt\n",
      "Executing trec_eval for QueryLikelyhoodDPSModel...\n",
      "<<>> Score of mu: 0, map: 0.2281\n",
      "<<>> mu is: 100\n",
      "Running queries... (225 / 225)\n",
      "Creating output file...\n",
      "Output file created at ./output/QueryLikelyhoodDPSModel.txt\n",
      "Executing trec_eval for QueryLikelyhoodDPSModel...\n",
      "<<>> Score of mu: 100, map: 0.2867\n",
      "<<>> mu is: 200\n",
      "Running queries... (225 / 225)\n",
      "Creating output file...\n",
      "Output file created at ./output/QueryLikelyhoodDPSModel.txt\n",
      "Executing trec_eval for QueryLikelyhoodDPSModel...\n",
      "<<>> Score of mu: 200, map: 0.2871\n",
      "<<>> mu is: 300\n",
      "Running queries... (225 / 225)\n",
      "Creating output file...\n",
      "Output file created at ./output/QueryLikelyhoodDPSModel.txt\n",
      "Executing trec_eval for QueryLikelyhoodDPSModel...\n",
      "<<>> Score of mu: 300, map: 0.2852\n",
      "<<>> mu is: 400\n",
      "Running queries... (225 / 225)\n",
      "Creating output file...\n",
      "Output file created at ./output/QueryLikelyhoodDPSModel.txt\n",
      "Executing trec_eval for QueryLikelyhoodDPSModel...\n",
      "<<>> Score of mu: 400, map: 0.2821\n",
      "[(0, 0.2281), (100, 0.2867), (200, 0.2871), (250, 0.2859), (300, 0.2852), (400, 0.2821), (500, 0.2817), (750, 0.2777)]\n"
     ]
    }
   ],
   "source": [
    "for mu in range(0, 500, 100):\n",
    "    table[mu] = get_map_score(mu)\n",
    "sorted_table = sorted(table.items(), key=lambda x: x[0])\n",
    "print(sorted_table)"
   ]
  },
  {
   "cell_type": "code",
   "execution_count": 37,
   "metadata": {},
   "outputs": [
    {
     "name": "stdout",
     "output_type": "stream",
     "text": [
      "<<>> mu is: 120\n",
      "Running queries... (225 / 225)\n",
      "Creating output file...\n",
      "Output file created at ./output/QueryLikelyhoodDPSModel.txt\n",
      "Executing trec_eval for QueryLikelyhoodDPSModel...\n",
      "<<>> Score of mu: 120, map: 0.287\n",
      "<<>> mu is: 121\n",
      "Running queries... (225 / 225)\n",
      "Creating output file...\n",
      "Output file created at ./output/QueryLikelyhoodDPSModel.txt\n",
      "Executing trec_eval for QueryLikelyhoodDPSModel...\n",
      "<<>> Score of mu: 121, map: 0.287\n",
      "<<>> mu is: 122\n",
      "Running queries... (225 / 225)\n",
      "Creating output file...\n",
      "Output file created at ./output/QueryLikelyhoodDPSModel.txt\n",
      "Executing trec_eval for QueryLikelyhoodDPSModel...\n",
      "<<>> Score of mu: 122, map: 0.287\n",
      "<<>> mu is: 123\n",
      "Running queries... (225 / 225)\n",
      "Creating output file...\n",
      "Output file created at ./output/QueryLikelyhoodDPSModel.txt\n",
      "Executing trec_eval for QueryLikelyhoodDPSModel...\n",
      "<<>> Score of mu: 123, map: 0.287\n",
      "<<>> mu is: 124\n",
      "Running queries... (225 / 225)\n",
      "Creating output file...\n",
      "Output file created at ./output/QueryLikelyhoodDPSModel.txt\n",
      "Executing trec_eval for QueryLikelyhoodDPSModel...\n",
      "<<>> Score of mu: 124, map: 0.2871\n",
      "<<>> mu is: 125\n",
      "Running queries... (225 / 225)\n",
      "Creating output file...\n",
      "Output file created at ./output/QueryLikelyhoodDPSModel.txt\n",
      "Executing trec_eval for QueryLikelyhoodDPSModel...\n",
      "<<>> Score of mu: 125, map: 0.287\n",
      "<<>> mu is: 126\n",
      "Running queries... (225 / 225)\n",
      "Creating output file...\n",
      "Output file created at ./output/QueryLikelyhoodDPSModel.txt\n",
      "Executing trec_eval for QueryLikelyhoodDPSModel...\n",
      "<<>> Score of mu: 126, map: 0.287\n",
      "<<>> mu is: 127\n",
      "Running queries... (225 / 225)\n",
      "Creating output file...\n",
      "Output file created at ./output/QueryLikelyhoodDPSModel.txt\n",
      "Executing trec_eval for QueryLikelyhoodDPSModel...\n",
      "<<>> Score of mu: 127, map: 0.287\n",
      "<<>> mu is: 128\n",
      "Running queries... (225 / 225)\n",
      "Creating output file...\n",
      "Output file created at ./output/QueryLikelyhoodDPSModel.txt\n",
      "Executing trec_eval for QueryLikelyhoodDPSModel...\n",
      "<<>> Score of mu: 128, map: 0.2871\n",
      "<<>> mu is: 129\n",
      "Running queries... (225 / 225)\n",
      "Creating output file...\n",
      "Output file created at ./output/QueryLikelyhoodDPSModel.txt\n",
      "Executing trec_eval for QueryLikelyhoodDPSModel...\n",
      "<<>> Score of mu: 129, map: 0.2871\n",
      "[(0, 0.2281), (100, 0.2867), (110, 0.2864), (120, 0.287), (121, 0.287), (122, 0.287), (123, 0.287), (124, 0.2871), (125, 0.287), (126, 0.287), (127, 0.287), (128, 0.2871), (129, 0.2871), (130, 0.2871), (140, 0.2869), (150, 0.2865), (160, 0.2862), (170, 0.2875), (180, 0.2872), (190, 0.2872), (200, 0.2871), (210, 0.287), (220, 0.2866), (230, 0.2864), (240, 0.286), (250, 0.2859), (300, 0.2852), (400, 0.2821), (500, 0.2817), (750, 0.2777)]\n"
     ]
    }
   ],
   "source": [
    "for mu in range(120, 130):\n",
    "    table[mu] = get_map_score(mu)\n",
    "sorted_table = sorted(table.items(), key=lambda x: x[0])\n",
    "print(sorted_table)"
   ]
  }
 ],
 "metadata": {
  "kernelspec": {
   "display_name": "ca683",
   "language": "python",
   "name": "python3"
  },
  "language_info": {
   "codemirror_mode": {
    "name": "ipython",
    "version": 3
   },
   "file_extension": ".py",
   "mimetype": "text/x-python",
   "name": "python",
   "nbconvert_exporter": "python",
   "pygments_lexer": "ipython3",
   "version": "3.10.13"
  }
 },
 "nbformat": 4,
 "nbformat_minor": 2
}
